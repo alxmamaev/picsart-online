{
 "cells": [
  {
   "cell_type": "markdown",
   "metadata": {},
   "source": [
    "# PicsArt AI Hackathon Online\n",
    "\n",
    "## Детектирование фона на изображениях"
   ]
  },
  {
   "cell_type": "code",
   "execution_count": 1,
   "metadata": {},
   "outputs": [
    {
     "name": "stdout",
     "output_type": "stream",
     "text": [
      "Populating the interactive namespace from numpy and matplotlib\n"
     ]
    }
   ],
   "source": [
    "%pylab inline\n",
    "\n",
    "import os\n",
    "import tqdm\n",
    "\n",
    "import pandas as pd\n",
    "from PIL import Image\n",
    "from skimage.morphology import remove_small_objects, remove_small_holes\n",
    "\n",
    "import torch\n",
    "from torch.utils.data import Dataset, DataLoader\n",
    "from torchvision import transforms\n",
    "from torchvision.models import vgg13, resnet50\n",
    "\n",
    "from utils import rle_encode"
   ]
  },
  {
   "cell_type": "markdown",
   "metadata": {},
   "source": [
    "# Загрузим список фотографий из обучающей выборки."
   ]
  },
  {
   "cell_type": "code",
   "execution_count": 2,
   "metadata": {},
   "outputs": [],
   "source": [
    "path_images = list(map(\n",
    "    lambda x: x.split('.')[0],\n",
    "    filter(lambda x: x.endswith('.jpg'), os.listdir('data/train/'))))"
   ]
  },
  {
   "cell_type": "markdown",
   "metadata": {},
   "source": [
    "Разделим на обучающую и валидационную выборки. Для ускорения оставим только 24 изображения для валидации."
   ]
  },
  {
   "cell_type": "code",
   "execution_count": 3,
   "metadata": {},
   "outputs": [],
   "source": [
    "train_images, val_images = path_images[:-500], path_images[-500:]"
   ]
  },
  {
   "cell_type": "markdown",
   "metadata": {},
   "source": [
    "Опишем датасет. Предусмотрим загрузку масок из другой директории с теми же названиями файлов."
   ]
  },
  {
   "cell_type": "code",
   "execution_count": 4,
   "metadata": {},
   "outputs": [],
   "source": [
    "class FaceDataset(Dataset):\n",
    "    def __init__(self, images_dir, images_name, target_dir=None,\n",
    "                 transforms=None):\n",
    "        \n",
    "        self.images_dir = images_dir\n",
    "        self.target_dir = target_dir\n",
    "        self.images_name = images_name\n",
    "        self.transforms = transforms\n",
    "                           \n",
    "        print('{} images'.format(len(self.images_name)))\n",
    "\n",
    "    def __len__(self):\n",
    "        return len(self.images_name)\n",
    "               \n",
    "    def __getitem__(self, idx):\n",
    "        img_filename = os.path.join(\n",
    "            self.images_dir, self.images_name[idx] + '.jpg')\n",
    "        img = Image.open(img_filename)\n",
    "        \n",
    "        if self.target_dir:\n",
    "            mask_filename = os.path.join(\n",
    "                self.target_dir, self.images_name[idx] + '.png')\n",
    "            mask = Image.open(mask_filename)\n",
    "        else:\n",
    "            mask = []\n",
    "        \n",
    "        if self.transforms:\n",
    "            background = Image.new('RGB', (320, 320))\n",
    "            background.paste(img)\n",
    "            img = self.transforms(background)\n",
    "            if mask:\n",
    "                background = Image.new('RGB', (320, 320))\n",
    "                background.paste(mask)\n",
    "                mask = transforms.ToTensor()(background)\n",
    "\n",
    "        return {'img': img, 'mask': mask}"
   ]
  },
  {
   "cell_type": "markdown",
   "metadata": {},
   "source": [
    "В качестве трансформации возьмём только нормализацию с параметрами от ImageNet, так как будем использовать предобученный кодировщик."
   ]
  },
  {
   "cell_type": "code",
   "execution_count": 5,
   "metadata": {},
   "outputs": [],
   "source": [
    "image_transforms = transforms.Compose([\n",
    "    transforms.ToTensor(),\n",
    "    transforms.Normalize(mean=[0.485, 0.456, 0.406],\n",
    "                         std=[0.229, 0.224, 0.225])])"
   ]
  },
  {
   "cell_type": "code",
   "execution_count": 6,
   "metadata": {},
   "outputs": [
    {
     "name": "stdout",
     "output_type": "stream",
     "text": [
      "991 images\n",
      "500 images\n"
     ]
    }
   ],
   "source": [
    "train_dataset = FaceDataset(\n",
    "    images_dir='data/train/',\n",
    "    images_name=train_images,\n",
    "    target_dir='data/train_mask/',\n",
    "    transforms=image_transforms)\n",
    "\n",
    "val_dataset = FaceDataset(\n",
    "    images_dir='data/train/',\n",
    "    images_name=val_images,\n",
    "    target_dir='data/train_mask/',\n",
    "    transforms=image_transforms)"
   ]
  },
  {
   "cell_type": "markdown",
   "metadata": {},
   "source": [
    "Генераторы для обучения и валидации сети."
   ]
  },
  {
   "cell_type": "code",
   "execution_count": 7,
   "metadata": {},
   "outputs": [],
   "source": [
    "train_data_loader = DataLoader(train_dataset, batch_size=8, shuffle=True)\n",
    "val_data_loader = DataLoader(val_dataset, batch_size=4)"
   ]
  },
  {
   "cell_type": "markdown",
   "metadata": {},
   "source": [
    "Для решения задачи сегментации будем использовать UNet. Энкодер сети сделаем из первых блоков предобученного VGG13."
   ]
  },
  {
   "cell_type": "code",
   "execution_count": 8,
   "metadata": {},
   "outputs": [],
   "source": [
    "device = torch.device(\"cuda:0\")"
   ]
  },
  {
   "cell_type": "code",
   "execution_count": 9,
   "metadata": {},
   "outputs": [],
   "source": [
    "class VGG13Encoder(torch.nn.Module):\n",
    "    def __init__(self, num_blocks, pretrained=True):\n",
    "        super().__init__()\n",
    "        self.num_blocks = num_blocks\n",
    "        self.blocks = []\n",
    "        feature_extractor = vgg13(pretrained=pretrained).features\n",
    "        for i in range(self.num_blocks):\n",
    "            self.blocks.append(\n",
    "                torch.nn.Sequential(*[feature_extractor[j]\n",
    "                                      for j in range(i * 5, i * 5 + 4)]).to(device))\n",
    "    \n",
    "    def forward(self, x):\n",
    "        activations = []\n",
    "        for i in range(self.num_blocks):\n",
    "            x = self.blocks[i](x)\n",
    "            activations.append(x)\n",
    "            if i != self.num_blocks - 1:\n",
    "                x = torch.functional.F.max_pool2d(x, kernel_size=2, stride=2)\n",
    "        return activations"
   ]
  },
  {
   "cell_type": "markdown",
   "metadata": {},
   "source": [
    "Опишем блок декодера."
   ]
  },
  {
   "cell_type": "code",
   "execution_count": null,
   "metadata": {},
   "outputs": [],
   "source": [
    "class DecoderBlock(torch.nn.Module):\n",
    "    def __init__(self, out_channels):\n",
    "        super().__init__()\n",
    "\n",
    "        self.upconv = torch.nn.Conv2d(\n",
    "            in_channels=out_channels * 2, out_channels=out_channels,\n",
    "            kernel_size=3, padding=1, dilation=1)\n",
    "        self.conv1 = torch.nn.Conv2d(\n",
    "            in_channels=out_channels * 2, out_channels=out_channels,\n",
    "            kernel_size=3, padding=1, dilation=1)\n",
    "        self.conv2 = torch.nn.Conv2d(\n",
    "            in_channels=out_channels, out_channels=out_channels,\n",
    "            kernel_size=3, padding=1, dilation=1)\n",
    "\n",
    "    def forward(self, down, left):\n",
    "        x = torch.nn.functional.interpolate(down, scale_factor=2)\n",
    "        x = self.upconv(x)\n",
    "        x = self.conv1(torch.cat([left, x], 1))\n",
    "        x = self.conv2(x)\n",
    "        return x"
   ]
  },
  {
   "cell_type": "markdown",
   "metadata": {},
   "source": [
    "Сформируем весь декодер из блоков."
   ]
  },
  {
   "cell_type": "code",
   "execution_count": null,
   "metadata": {},
   "outputs": [],
   "source": [
    "class Decoder(torch.nn.Module):\n",
    "    def __init__(self, num_filters, num_blocks):\n",
    "        super().__init__()\n",
    "        self.blocks = []\n",
    "        for i in range(num_blocks):\n",
    "            self.blocks.append(DecoderBlock(num_filters * 2**(num_blocks-i-1)).to(device))\n",
    "\n",
    "    def forward(self, activations):\n",
    "        up = activations[-1]\n",
    "        for i, left in enumerate(activations[-2::-1]):\n",
    "            up = self.blocks[i](up, left)\n",
    "        return up"
   ]
  },
  {
   "cell_type": "markdown",
   "metadata": {},
   "source": [
    "А теперь и всю сеть целиком."
   ]
  },
  {
   "cell_type": "code",
   "execution_count": null,
   "metadata": {},
   "outputs": [],
   "source": [
    "class UNet(torch.nn.Module):\n",
    "    def __init__(self, num_classes=1, num_filters=64, num_blocks=4):\n",
    "        super().__init__()\n",
    "        self.encoder = VGG13Encoder(num_blocks=num_blocks)\n",
    "        self.decoder = Decoder(num_filters=64, num_blocks=num_blocks - 1)\n",
    "        self.final = torch.nn.Conv2d(\n",
    "            in_channels=num_filters, out_channels=num_classes, kernel_size=1)\n",
    "\n",
    "    def forward(self, x):\n",
    "        acts = self.encoder(x)\n",
    "        x = self.decoder(acts)\n",
    "        x = self.final(x)\n",
    "        return x"
   ]
  },
  {
   "cell_type": "code",
   "execution_count": null,
   "metadata": {},
   "outputs": [],
   "source": [
    "import torch\n",
    "import torch.nn as nn\n",
    "\n",
    "\n",
    "from torchvision.models import resnet18, resnet34\n",
    "\n",
    "\n",
    "class ResNetEncoder(nn.Module):\n",
    "    def __init__(self, arch, pretrained=False):\n",
    "        super().__init__()\n",
    "\n",
    "        backbone = arch(pretrained=pretrained)\n",
    "\n",
    "        self.encoder0 = nn.Sequential(\n",
    "            backbone.conv1,\n",
    "            backbone.bn1,\n",
    "            backbone.relu,\n",
    "            backbone.maxpool\n",
    "        )\n",
    "        self.encoder1 = backbone.layer1\n",
    "        self.encoder2 = backbone.layer2\n",
    "        self.encoder3 = backbone.layer3\n",
    "        self.encoder4 = backbone.layer4\n",
    "\n",
    "        self.filters = [\n",
    "            module[-1].conv3.out_channels\n",
    "            if 'conv3' in module[-1].__dict__['_modules']\n",
    "            else module[-1].conv2.out_channels\n",
    "            for module in [\n",
    "                self.encoder1,\n",
    "                self.encoder2,\n",
    "                self.encoder3,\n",
    "                self.encoder4\n",
    "            ]\n",
    "        ]\n",
    "\n",
    "    def forward(self, x):\n",
    "        acts = []\n",
    "        x = self.encoder0(x)\n",
    "        x = self.encoder1(x)\n",
    "        # print(x.shape)\n",
    "        acts.append(x)\n",
    "        x = self.encoder2(x)\n",
    "        # print(x.shape)\n",
    "        acts.append(x)\n",
    "        x = self.encoder3(x)\n",
    "        # print(x.shape)\n",
    "        acts.append(x)\n",
    "        x = self.encoder4(x)\n",
    "        # print(x.shape)\n",
    "        acts.append(x)\n",
    "        return acts\n",
    "\n",
    "\n",
    "class DecoderBlock(nn.Module):\n",
    "    def __init__(self, m, n, stride=2):\n",
    "        super().__init__()\n",
    "\n",
    "        # B, C, H, W -> B, C/4, H, W\n",
    "        self.conv1 = nn.Conv2d(m, m // 4, 1)\n",
    "        self.norm1 = nn.BatchNorm2d(m // 4)\n",
    "        self.relu1 = nn.ReLU(inplace=False)\n",
    "\n",
    "        # B, C/4, H, W -> B, C/4, H, W\n",
    "        self.conv2 = nn.ConvTranspose2d(m // 4, m // 4, 3, stride=stride, padding=1)\n",
    "        self.norm2 = nn.BatchNorm2d(m // 4)\n",
    "        self.relu2 = nn.ReLU(inplace=False)\n",
    "\n",
    "        # B, C/4, H, W -> B, C, H, W\n",
    "        self.conv3 = nn.Conv2d(m // 4, n, 1)\n",
    "        self.norm3 = nn.BatchNorm2d(n)\n",
    "        self.relu3 = nn.ReLU(inplace=False)\n",
    "\n",
    "    def forward(self, x):\n",
    "        double_size = (x.size(-2) * 2, x.size(-1) * 2)\n",
    "        x = self.conv1(x)\n",
    "        x = self.norm1(x)\n",
    "        x = self.relu1(x)\n",
    "        x = self.conv2(x, output_size=double_size)\n",
    "        x = self.norm2(x)\n",
    "        x = self.relu2(x)\n",
    "        x = self.conv3(x)\n",
    "        x = self.norm3(x)\n",
    "        x = self.relu3(x)\n",
    "        return x\n",
    "\n",
    "\n",
    "class FinalBlock(nn.Module):\n",
    "    def __init__(self, num_filters, num_classes=2):\n",
    "        super().__init__()\n",
    "\n",
    "        self.conv1 = nn.ConvTranspose2d(num_filters, num_filters // 2, 3, stride=2, padding=1)\n",
    "        self.relu1 = nn.ReLU(inplace=False)\n",
    "        self.conv2 = nn.Conv2d(num_filters // 2, num_filters // 2, 3, padding=1)\n",
    "        self.relu2 = nn.ReLU(inplace=False)\n",
    "        self.conv3 = nn.Conv2d(num_filters // 2, num_classes, 1)\n",
    "\n",
    "    def forward(self, inputs):\n",
    "        double_size = (inputs.size(-2) * 2, inputs.size(-1) * 2)\n",
    "        x = self.conv1(inputs, output_size=double_size)\n",
    "        x = self.relu1(x)\n",
    "        x = self.conv2(x)\n",
    "        x = self.relu2(x)\n",
    "        x = self.conv3(x)\n",
    "        return x\n",
    "\n",
    "\n",
    "class LinkNet(nn.Module):\n",
    "    def __init__(self, encoder, num_classes):\n",
    "        super().__init__()\n",
    "\n",
    "        self.encoder = encoder\n",
    "        filters = self.encoder.filters\n",
    "\n",
    "        self.decoder4 = DecoderBlock(filters[3], filters[2])\n",
    "        self.decoder3 = DecoderBlock(filters[2], filters[1])\n",
    "        self.decoder2 = DecoderBlock(filters[1], filters[0])\n",
    "        self.decoder1 = DecoderBlock(filters[0], filters[0])\n",
    "\n",
    "        self.final = FinalBlock(filters[0], num_classes)\n",
    "\n",
    "    def forward(self, x):\n",
    "        e1, e2, e3, e4 = self.encoder(x)\n",
    "        d4 = self.decoder4(e4) + e3\n",
    "        d3 = self.decoder3(d4) + e2\n",
    "        d2 = self.decoder2(d3) + e1\n",
    "        d1 = self.decoder1(d2)\n",
    "        out = self.final(d1)\n",
    "        out = out.squeeze(1)  # FIXME ugly 2\n",
    "        return out\n",
    "\n",
    "\n",
    "def linknet18(num_classes=1, pretrained=False):\n",
    "    encoder = ResNetEncoder(resnet18, pretrained=pretrained)\n",
    "    return LinkNet(encoder, num_classes)\n",
    "\n",
    "\n",
    "def linknet34(num_classes=1, pretrained=False):\n",
    "    encoder = ResNetEncoder(resnet34, pretrained=pretrained).to(device)\n",
    "    return LinkNet(encoder, num_classes).to(device)"
   ]
  },
  {
   "cell_type": "code",
   "execution_count": null,
   "metadata": {},
   "outputs": [],
   "source": [
    "unet = linknet18(pretrained=True).to(device)"
   ]
  },
  {
   "cell_type": "markdown",
   "metadata": {},
   "source": [
    "Проверим размерность выхода."
   ]
  },
  {
   "cell_type": "code",
   "execution_count": null,
   "metadata": {},
   "outputs": [],
   "source": [
    "for batch in train_data_loader:\n",
    "    break\n",
    "\n",
    "out = unet.forward(batch['img'].to(device))\n",
    "print(batch['img'].shape)\n",
    "print(out.shape)"
   ]
  },
  {
   "cell_type": "markdown",
   "metadata": {},
   "source": [
    "Обучим сеть."
   ]
  },
  {
   "cell_type": "code",
   "execution_count": null,
   "metadata": {},
   "outputs": [],
   "source": [
    "criterion = torch.nn.BCEWithLogitsLoss()\n",
    "val_criterion = torch.nn.BCEWithLogitsLoss()\n",
    "optimizer = torch.optim.SGD(unet.parameters(), lr=0.01, momentum=0.99)"
   ]
  },
  {
   "cell_type": "code",
   "execution_count": null,
   "metadata": {},
   "outputs": [],
   "source": [
    "unet = unet.to(device)"
   ]
  },
  {
   "cell_type": "code",
   "execution_count": null,
   "metadata": {
    "scrolled": false
   },
   "outputs": [],
   "source": [
    "num_epoch = 10\n",
    "steps = 10\n",
    "\n",
    "for epoch in range(num_epoch):\n",
    "    for i, batch in enumerate(train_data_loader):\n",
    "        optimizer.zero_grad()\n",
    "        output = unet(batch['img'].to(device))\n",
    "        loss = criterion(output, batch['mask'][:,0,:,:].to(device))\n",
    "        loss.backward()\n",
    "        optimizer.step()\n",
    "        steps += 1\n",
    "        \n",
    "        if steps % 10 == 0:\n",
    "            val_loss = 0\n",
    "            for i, batch in enumerate(val_data_loader):\n",
    "                output = unet(batch['img'].to(device))\n",
    "                val_loss += float(\n",
    "                    val_criterion(output, batch['mask'][:,0,:,:].to(device)).detach())\n",
    "            val_loss = val_loss / len(val_dataset)\n",
    "        \n",
    "            print('steps: {},\\ttrain loss: {},\\tval loss: {}'.format(\n",
    "                steps, round(float(loss.detach()), 3), round(val_loss, 3)))"
   ]
  },
  {
   "cell_type": "markdown",
   "metadata": {},
   "source": [
    "Подготовим итератор по тестовым изображениям."
   ]
  },
  {
   "cell_type": "code",
   "execution_count": null,
   "metadata": {},
   "outputs": [],
   "source": [
    "path_images = list(map(\n",
    "    lambda x: x.split('.')[0],\n",
    "    filter(lambda x: x.endswith('.jpg'), os.listdir('data/test/'))))"
   ]
  },
  {
   "cell_type": "code",
   "execution_count": null,
   "metadata": {},
   "outputs": [],
   "source": [
    "test_data_loader = DataLoader(\n",
    "    FaceDataset('data/test', path_images, transforms=image_transforms), batch_size=4)"
   ]
  },
  {
   "cell_type": "markdown",
   "metadata": {},
   "source": [
    "Сделаем предсказания. К выходу сети применим сигмоиду (исходно выходы без нелинейности), сделаем отсечение по порогу и небольшой постобработку по удалению отдельных пикселей маски и закрашиванию дыр. Для кодирования масок в виде массива в формат Run-length encoding используем rle_encode."
   ]
  },
  {
   "cell_type": "code",
   "execution_count": null,
   "metadata": {},
   "outputs": [],
   "source": [
    "threshold = 0.25\n",
    "predictions = []\n",
    "\n",
    "for batch in tqdm.tqdm_notebook(test_data_loader):\n",
    "    output = torch.sigmoid(unet.forward(batch['img'].to(device))).cpu()\n",
    "    for i in range(output.shape[0]):\n",
    "        img = output[i].detach().numpy()\n",
    "        post_img = remove_small_holes(remove_small_objects(img > threshold))\n",
    "#         import pdb;pdb.set_trace()\n",
    "        rle = rle_encode(post_img[:,:240])\n",
    "        predictions.append(rle)"
   ]
  },
  {
   "cell_type": "code",
   "execution_count": null,
   "metadata": {},
   "outputs": [],
   "source": [
    "from matplotlib import pyplot as plt\n",
    "\n",
    "%matplotlib inline"
   ]
  },
  {
   "cell_type": "code",
   "execution_count": null,
   "metadata": {},
   "outputs": [],
   "source": [
    "plt.imshow(post_img)"
   ]
  },
  {
   "cell_type": "code",
   "execution_count": null,
   "metadata": {},
   "outputs": [],
   "source": [
    "plt.imshow(np.moveaxis(batch['img'][0].cpu().data.numpy(), [0,1,2], [2,0,1]))"
   ]
  },
  {
   "cell_type": "code",
   "execution_count": null,
   "metadata": {},
   "outputs": [],
   "source": [
    "df = pd.DataFrame.from_dict({'image': path_images, 'rle_mask': predictions})\n",
    "df.to_csv('baseline_submission.csv', index=False)"
   ]
  },
  {
   "cell_type": "code",
   "execution_count": null,
   "metadata": {},
   "outputs": [],
   "source": []
  }
 ],
 "metadata": {
  "kernelspec": {
   "display_name": "Python 3",
   "language": "python",
   "name": "python3"
  },
  "language_info": {
   "codemirror_mode": {
    "name": "ipython",
    "version": 3
   },
   "file_extension": ".py",
   "mimetype": "text/x-python",
   "name": "python",
   "nbconvert_exporter": "python",
   "pygments_lexer": "ipython3",
   "version": "3.6.6"
  }
 },
 "nbformat": 4,
 "nbformat_minor": 2
}
