{
 "cells": [
  {
   "cell_type": "markdown",
   "metadata": {},
   "source": [
    "# PicsArt AI Hackathon Online\n",
    "\n",
    "## Детектирование фона на изображениях"
   ]
  },
  {
   "cell_type": "code",
   "execution_count": 1,
   "metadata": {
    "scrolled": true
   },
   "outputs": [
    {
     "name": "stdout",
     "output_type": "stream",
     "text": [
      "Populating the interactive namespace from numpy and matplotlib\n"
     ]
    }
   ],
   "source": [
    "%pylab inline\n",
    "\n",
    "import os\n",
    "import tqdm\n",
    "\n",
    "import pandas as pd\n",
    "from PIL import Image\n",
    "from skimage.morphology import remove_small_objects, remove_small_holes\n",
    "\n",
    "import torch\n",
    "import torch.nn as nn\n",
    "from torch.utils.data import Dataset, DataLoader\n",
    "from torchvision import transforms\n",
    "from torchvision.models import resnet18, resnet34\n",
    "from livelossplot import PlotLosses\n",
    "\n",
    "from utils import rle_encode\n",
    "\n",
    "from matplotlib import pyplot as plt\n",
    "\n",
    "device = torch.device(\"cuda:0\")\n",
    "\n",
    "%matplotlib inline"
   ]
  },
  {
   "cell_type": "code",
   "execution_count": 2,
   "metadata": {},
   "outputs": [],
   "source": [
    "path_images = list(map(\n",
    "    lambda x: x.split('.')[0],\n",
    "    filter(lambda x: x.endswith('.jpg'), os.listdir('data/train/'))))\n",
    "\n",
    "train_images, val_images = path_images[:-500], path_images[-500:]"
   ]
  },
  {
   "cell_type": "code",
   "execution_count": 3,
   "metadata": {},
   "outputs": [],
   "source": [
    "class FaceDataset(Dataset):\n",
    "    def __init__(self, images_dir, images_name, target_dir=None,\n",
    "                 transforms=None):\n",
    "        \n",
    "        self.images_dir = images_dir\n",
    "        self.target_dir = target_dir\n",
    "        self.images_name = images_name\n",
    "        self.transforms = transforms\n",
    "                           \n",
    "        print('{} images'.format(len(self.images_name)))\n",
    "\n",
    "    def __len__(self):\n",
    "        return len(self.images_name)\n",
    "               \n",
    "    def __getitem__(self, idx):\n",
    "        img_filename = os.path.join(\n",
    "            self.images_dir, self.images_name[idx] + '.jpg')\n",
    "        img = Image.open(img_filename)\n",
    "        \n",
    "        if self.target_dir:\n",
    "            mask_filename = os.path.join(\n",
    "                self.target_dir, self.images_name[idx] + '.png')\n",
    "            mask = Image.open(mask_filename)\n",
    "        else:\n",
    "            mask = []\n",
    "        \n",
    "        if self.transforms:\n",
    "            background = Image.new('RGB', (320, 320))\n",
    "            background.paste(img)\n",
    "            img = self.transforms(background)\n",
    "            if mask:\n",
    "                background = Image.new('RGB', (320, 320))\n",
    "                background.paste(mask)\n",
    "                mask = transforms.ToTensor()(background)\n",
    "\n",
    "        return {'img': img, 'mask': mask}"
   ]
  },
  {
   "cell_type": "code",
   "execution_count": 4,
   "metadata": {},
   "outputs": [],
   "source": [
    "image_transforms = transforms.Compose([\n",
    "    transforms.ToTensor(),\n",
    "    transforms.Normalize(mean=[0.485, 0.456, 0.406],\n",
    "                         std=[0.229, 0.224, 0.225])])"
   ]
  },
  {
   "cell_type": "code",
   "execution_count": 5,
   "metadata": {},
   "outputs": [
    {
     "name": "stdout",
     "output_type": "stream",
     "text": [
      "991 images\n",
      "500 images\n"
     ]
    }
   ],
   "source": [
    "train_dataset = FaceDataset(\n",
    "    images_dir='data/train/',\n",
    "    images_name=train_images,\n",
    "    target_dir='data/train_mask/',\n",
    "    transforms=image_transforms)\n",
    "\n",
    "val_dataset = FaceDataset(\n",
    "    images_dir='data/train/',\n",
    "    images_name=val_images,\n",
    "    target_dir='data/train_mask/',\n",
    "    transforms=image_transforms)\n",
    "\n",
    "\n",
    "train_data_loader = DataLoader(train_dataset, batch_size=8, shuffle=True)\n",
    "val_data_loader = DataLoader(val_dataset, batch_size=4)"
   ]
  },
  {
   "cell_type": "code",
   "execution_count": 6,
   "metadata": {},
   "outputs": [],
   "source": [
    "class ResNetEncoder(nn.Module):\n",
    "    def __init__(self, arch, pretrained=False):\n",
    "        super().__init__()\n",
    "\n",
    "        backbone = arch(pretrained=pretrained)\n",
    "\n",
    "        self.encoder0 = nn.Sequential(\n",
    "            backbone.conv1,\n",
    "            backbone.bn1,\n",
    "            backbone.relu,\n",
    "            backbone.maxpool\n",
    "        )\n",
    "        self.encoder1 = backbone.layer1\n",
    "        self.encoder2 = backbone.layer2\n",
    "        self.encoder3 = backbone.layer3\n",
    "        self.encoder4 = backbone.layer4\n",
    "\n",
    "        self.filters = [\n",
    "            module[-1].conv3.out_channels\n",
    "            if 'conv3' in module[-1].__dict__['_modules']\n",
    "            else module[-1].conv2.out_channels\n",
    "            for module in [\n",
    "                self.encoder1,\n",
    "                self.encoder2,\n",
    "                self.encoder3,\n",
    "                self.encoder4\n",
    "            ]\n",
    "        ]\n",
    "\n",
    "    def forward(self, x):\n",
    "        acts = []\n",
    "        x = self.encoder0(x)\n",
    "        x = self.encoder1(x)\n",
    "        # print(x.shape)\n",
    "        acts.append(x)\n",
    "        x = self.encoder2(x)\n",
    "        # print(x.shape)\n",
    "        acts.append(x)\n",
    "        x = self.encoder3(x)\n",
    "        # print(x.shape)\n",
    "        acts.append(x)\n",
    "        x = self.encoder4(x)\n",
    "        # print(x.shape)\n",
    "        acts.append(x)\n",
    "        return acts\n",
    "\n",
    "\n",
    "class DecoderBlock(nn.Module):\n",
    "    def __init__(self, m, n, stride=2):\n",
    "        super().__init__()\n",
    "\n",
    "        # B, C, H, W -> B, C/4, H, W\n",
    "        self.conv1 = nn.Conv2d(m, m // 4, 1)\n",
    "        self.norm1 = nn.BatchNorm2d(m // 4)\n",
    "        self.relu1 = nn.ReLU(inplace=False)\n",
    "\n",
    "        # B, C/4, H, W -> B, C/4, H, W\n",
    "        self.conv2 = nn.ConvTranspose2d(m // 4, m // 4, 3, stride=stride, padding=1)\n",
    "        self.norm2 = nn.BatchNorm2d(m // 4)\n",
    "        self.relu2 = nn.ReLU(inplace=False)\n",
    "\n",
    "        # B, C/4, H, W -> B, C, H, W\n",
    "        self.conv3 = nn.Conv2d(m // 4, n, 1)\n",
    "        self.norm3 = nn.BatchNorm2d(n)\n",
    "        self.relu3 = nn.ReLU(inplace=False)\n",
    "\n",
    "    def forward(self, x):\n",
    "        double_size = (x.size(-2) * 2, x.size(-1) * 2)\n",
    "        x = self.conv1(x)\n",
    "        x = self.norm1(x)\n",
    "        x = self.relu1(x)\n",
    "        x = self.conv2(x, output_size=double_size)\n",
    "        x = self.norm2(x)\n",
    "        x = self.relu2(x)\n",
    "        x = self.conv3(x)\n",
    "        x = self.norm3(x)\n",
    "        x = self.relu3(x)\n",
    "        return x\n",
    "\n",
    "\n",
    "class FinalBlock(nn.Module):\n",
    "    def __init__(self, num_filters, num_classes=2):\n",
    "        super().__init__()\n",
    "\n",
    "        self.conv1 = nn.ConvTranspose2d(num_filters, num_filters // 2, 3, stride=2, padding=1)\n",
    "        self.relu1 = nn.ReLU(inplace=False)\n",
    "        self.conv2 = nn.Conv2d(num_filters // 2, num_filters // 2, 3, padding=1)\n",
    "        self.relu2 = nn.ReLU(inplace=False)\n",
    "        self.conv3 = nn.Conv2d(num_filters // 2, num_classes, 1)\n",
    "\n",
    "    def forward(self, inputs):\n",
    "        double_size = (inputs.size(-2) * 2, inputs.size(-1) * 2)\n",
    "        x = self.conv1(inputs, output_size=double_size)\n",
    "        x = self.relu1(x)\n",
    "        x = self.conv2(x)\n",
    "        x = self.relu2(x)\n",
    "        x = self.conv3(x)\n",
    "        return x\n",
    "\n",
    "\n",
    "class LinkNet(nn.Module):\n",
    "    def __init__(self, encoder, num_classes):\n",
    "        super().__init__()\n",
    "\n",
    "        self.encoder = encoder\n",
    "        filters = self.encoder.filters\n",
    "\n",
    "        self.decoder4 = DecoderBlock(filters[3], filters[2])\n",
    "        self.decoder3 = DecoderBlock(filters[2], filters[1])\n",
    "        self.decoder2 = DecoderBlock(filters[1], filters[0])\n",
    "        self.decoder1 = DecoderBlock(filters[0], filters[0])\n",
    "\n",
    "        self.final = FinalBlock(filters[0], num_classes)\n",
    "\n",
    "    def forward(self, x):\n",
    "        e1, e2, e3, e4 = self.encoder(x)\n",
    "        d4 = self.decoder4(e4) + e3\n",
    "        d3 = self.decoder3(d4) + e2\n",
    "        d2 = self.decoder2(d3) + e1\n",
    "        d1 = self.decoder1(d2)\n",
    "        out = self.final(d1)\n",
    "        out = out.squeeze(1)  # FIXME ugly 2\n",
    "        return out\n",
    "\n",
    "\n",
    "def linknet18(num_classes=1, pretrained=False):\n",
    "    encoder = ResNetEncoder(resnet18, pretrained=pretrained).to(device)\n",
    "    return LinkNet(encoder, num_classes)\n",
    "\n",
    "\n",
    "def linknet34(num_classes=1, pretrained=False):\n",
    "    encoder = ResNetEncoder(resnet34, pretrained=pretrained).to(device)\n",
    "    return LinkNet(encoder, num_classes).to(device)"
   ]
  },
  {
   "cell_type": "code",
   "execution_count": 8,
   "metadata": {},
   "outputs": [],
   "source": [
    "unet = linknet18(pretrained=True).to(device)\n",
    "\n",
    "criterion = torch.nn.BCEWithLogitsLoss()\n",
    "val_criterion = torch.nn.BCEWithLogitsLoss()\n",
    "optimizer = torch.optim.RMSprop(unet.parameters(), lr=0.0002)"
   ]
  },
  {
   "cell_type": "code",
   "execution_count": 9,
   "metadata": {
    "scrolled": false
   },
   "outputs": [
    {
     "data": {
      "image/png": "[encoded data removed]",
      "text/plain": [
       "<Figure size 864x576 with 2 Axes>"
      ]
     },
     "metadata": {},
     "output_type": "display_data"
    }
   ],
   "source": [
    "plot = PlotLosses()\n",
    "num_epoch = 15\n",
    "steps = 20\n",
    "\n",
    "for epoch in range(num_epoch):\n",
    "    for i, batch in enumerate(train_data_loader):\n",
    "        optimizer.zero_grad()\n",
    "        output = unet(batch['img'].to(device))\n",
    "        loss = criterion(output, batch['mask'][:,0,:,:].to(device))\n",
    "        loss.backward()\n",
    "        optimizer.step()\n",
    "        steps += 1\n",
    "        \n",
    "        if steps % 10 == 0:\n",
    "            val_loss = 0\n",
    "            for i, batch in enumerate(val_data_loader):\n",
    "                output = unet(batch['img'].to(device))\n",
    "                val_loss += float(\n",
    "                    val_criterion(output, batch['mask'][:,0,:,:].to(device)).detach())\n",
    "            val_loss = val_loss / len(val_dataset)\n",
    "            plot.update({\n",
    "                \"loss\": round(float(loss.detach()), 3),\n",
    "                \"loss_test\": round(val_loss, 3)\n",
    "            })\n",
    "            \n",
    "            plot.draw()"
   ]
  },
  {
   "cell_type": "code",
   "execution_count": 10,
   "metadata": {},
   "outputs": [
    {
     "data": {
      "text/plain": [
       "(0.026, 0.029)"
      ]
     },
     "execution_count": 10,
     "metadata": {},
     "output_type": "execute_result"
    }
   ],
   "source": [
    "round(float(loss.detach()), 3), round(val_loss, 3)"
   ]
  },
  {
   "cell_type": "code",
   "execution_count": 18,
   "metadata": {},
   "outputs": [
    {
     "name": "stdout",
     "output_type": "stream",
     "text": [
      "2177 images\n",
      "2177 images\n"
     ]
    },
    {
     "data": {
      "application/vnd.jupyter.widget-view+json": {
       "model_id": "7a48bcc951a04c3d908cebbc535dc72c",
       "version_major": 2,
       "version_minor": 0
      },
      "text/plain": [
       "HBox(children=(IntProgress(value=0, max=545), HTML(value='')))"
      ]
     },
     "metadata": {},
     "output_type": "display_data"
    },
    {
     "name": "stderr",
     "output_type": "stream",
     "text": [
      "/home/alxmamaev/.conda/envs/py36/lib/python3.6/site-packages/skimage/morphology/misc.py:122: UserWarning: Only one label was provided to `remove_small_objects`. Did you mean to use a boolean array?\n",
      "  warn(\"Only one label was provided to `remove_small_objects`. \"\n"
     ]
    },
    {
     "name": "stdout",
     "output_type": "stream",
     "text": [
      "\n"
     ]
    }
   ],
   "source": [
    "threshold = 0.5\n",
    "predictions = []\n",
    "\n",
    "\n",
    "path_images = list(map(\n",
    "    lambda x: x.split('.')[0],\n",
    "    filter(lambda x: x.endswith('.jpg'), os.listdir('data/test/'))))\n",
    "\n",
    "test_data_loader = DataLoader(\n",
    "    FaceDataset('data/test', path_images, transforms=image_transforms), batch_size=4)\n",
    "\n",
    "test_dataset = FaceDataset('data/test', path_images, transforms=image_transforms)\n",
    "\n",
    "for batch in tqdm.tqdm_notebook(test_data_loader):\n",
    "    output = torch.sigmoid(unet.forward(batch['img'].to(device))).cpu()\n",
    "    for i in range(output.shape[0]):\n",
    "        img = output[i].detach().numpy()\n",
    "        post_img = remove_small_holes(remove_small_objects(img > threshold))\n",
    "        rle = rle_encode(post_img[:,:240])\n",
    "        predictions.append(rle)"
   ]
  },
  {
   "cell_type": "code",
   "execution_count": 27,
   "metadata": {},
   "outputs": [
    {
     "data": {
      "image/png": "[encoded data removed]",
      "text/plain": [
       "<Figure size 432x288 with 1 Axes>"
      ]
     },
     "metadata": {},
     "output_type": "display_data"
    },
    {
     "name": "stderr",
     "output_type": "stream",
     "text": [
      "Clipping input data to the valid range for imshow with RGB data ([0..1] for floats or [0..255] for integers).\n"
     ]
    },
    {
     "data": {
      "image/png": "[encoded data removed]",
      "text/plain": [
       "<Figure size 432x288 with 1 Axes>"
      ]
     },
     "metadata": {},
     "output_type": "display_data"
    }
   ],
   "source": [
    "image_id = 0\n",
    "\n",
    "plt.imshow(post_img)\n",
    "plt.show()\n",
    "plt.imshow(np.moveaxis(batch['img'][0].cpu().data.numpy(), [0,1,2], [2,0,1]))\n",
    "plt.show()"
   ]
  },
  {
   "cell_type": "code",
   "execution_count": 29,
   "metadata": {},
   "outputs": [],
   "source": [
    "df = pd.DataFrame.from_dict({'image': path_images, 'rle_mask': predictions})\n",
    "df.to_csv('baseline_submission.csv', index=False)"
   ]
  },
  {
   "cell_type": "code",
   "execution_count": null,
   "metadata": {},
   "outputs": [],
   "source": []
  }
 ],
 "metadata": {
  "kernelspec": {
   "display_name": "Python 3",
   "language": "python",
   "name": "python3"
  }
 },
 "nbformat": 4,
 "nbformat_minor": 2
}
